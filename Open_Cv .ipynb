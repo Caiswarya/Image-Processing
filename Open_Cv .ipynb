{
 "cells": [
  {
   "cell_type": "code",
   "execution_count": 1,
   "id": "7db76061",
   "metadata": {},
   "outputs": [],
   "source": [
    "import cv2\n",
    "import numpy as np\n",
    "import matplotlib.pyplot as plt"
   ]
  },
  {
   "cell_type": "code",
   "execution_count": 2,
   "id": "ed3d6f9a",
   "metadata": {},
   "outputs": [
    {
     "name": "stdout",
     "output_type": "stream",
     "text": [
      "Requirement already satisfied: mediapipe in c:\\users\\admin\\appdata\\roaming\\python\\python39\\site-packages (0.8.9.1)\n",
      "Requirement already satisfied: numpy in d:\\anaconda3\\lib\\site-packages (from mediapipe) (1.20.3)\n",
      "Requirement already satisfied: opencv-contrib-python in c:\\users\\admin\\appdata\\roaming\\python\\python39\\site-packages (from mediapipe) (4.5.5.62)\n",
      "Requirement already satisfied: absl-py in c:\\users\\admin\\appdata\\roaming\\python\\python39\\site-packages (from mediapipe) (1.0.0)\n",
      "Requirement already satisfied: protobuf>=3.11.4 in d:\\anaconda3\\lib\\site-packages (from mediapipe) (3.19.3)\n",
      "Requirement already satisfied: attrs>=19.1.0 in d:\\anaconda3\\lib\\site-packages (from mediapipe) (21.2.0)\n",
      "Requirement already satisfied: matplotlib in d:\\anaconda3\\lib\\site-packages (from mediapipe) (3.4.3)\n",
      "Requirement already satisfied: six in d:\\anaconda3\\lib\\site-packages (from absl-py->mediapipe) (1.16.0)\n",
      "Requirement already satisfied: python-dateutil>=2.7 in d:\\anaconda3\\lib\\site-packages (from matplotlib->mediapipe) (2.8.2)\n",
      "Requirement already satisfied: cycler>=0.10 in d:\\anaconda3\\lib\\site-packages (from matplotlib->mediapipe) (0.10.0)\n",
      "Requirement already satisfied: kiwisolver>=1.0.1 in d:\\anaconda3\\lib\\site-packages (from matplotlib->mediapipe) (1.3.1)\n",
      "Requirement already satisfied: pillow>=6.2.0 in d:\\anaconda3\\lib\\site-packages (from matplotlib->mediapipe) (8.4.0)\n",
      "Requirement already satisfied: pyparsing>=2.2.1 in d:\\anaconda3\\lib\\site-packages (from matplotlib->mediapipe) (3.0.4)\n"
     ]
    }
   ],
   "source": [
    "!pip install mediapipe --user"
   ]
  },
  {
   "cell_type": "markdown",
   "id": "1a3f407a",
   "metadata": {},
   "source": [
    "### Show Red Color Area and Mask other areas"
   ]
  },
  {
   "cell_type": "code",
   "execution_count": 3,
   "id": "5daa8a99",
   "metadata": {},
   "outputs": [],
   "source": [
    "import cv2\n",
    "import numpy as np\n",
    "\n",
    "cap = cv2.VideoCapture(0)\n",
    "\n",
    "while(1):\n",
    "    _, frame = cap.read()\n",
    "    hsv = cv2.cvtColor(frame, cv2.COLOR_BGR2HSV)\n",
    "    \n",
    "    # lower mask (0-10)\n",
    "    lower_red = np.array([0,50,50])\n",
    "    upper_red = np.array([10,255,255])\n",
    "    mask0 = cv2.inRange(hsv, lower_red, upper_red)\n",
    "\n",
    "# upper mask (170-180)\n",
    "    lower_red = np.array([170,50,50])\n",
    "    upper_red = np.array([180,255,255])\n",
    "    mask1 = cv2.inRange(hsv, lower_red, upper_red)\n",
    "\n",
    "# join my masks\n",
    "    mask = mask0+mask1\n",
    "\n",
    "# set my output img to zero everywhere except my mask\n",
    "    output_img = frame.copy()\n",
    "    output_img[np.where(mask==0)] = 0\n",
    "\n",
    "# or your HSV image, which I *believe* is what you want\n",
    "    output_hsv = hsv.copy()\n",
    "    output_hsv[np.where(mask==0)] = 0\n",
    "\n",
    "    #cv2.imshow('frame',frame)\n",
    "    #cv2.imshow('mask',mask)\n",
    "    cv2.imshow('output_img',output_img)\n",
    "    \n",
    "    k = cv2.waitKey(5) & 0xFF\n",
    "    if k == 27:\n",
    "        break\n",
    "\n",
    "cv2.destroyAllWindows()\n",
    "cap.release()\n",
    "\n"
   ]
  },
  {
   "cell_type": "markdown",
   "id": "3a49ee57",
   "metadata": {},
   "source": [
    "### Making Invisble By color"
   ]
  },
  {
   "cell_type": "code",
   "execution_count": 5,
   "id": "66653eb4",
   "metadata": {},
   "outputs": [],
   "source": [
    "import cv2\n",
    "import numpy as np\n",
    "import time \n",
    "cap=cv2.VideoCapture(0)\n",
    "cap.set(3, 640)\n",
    "cap.set(4, 480)\n",
    "# give the camera to warm up\n",
    "time.sleep(1) \n",
    "count = 0 \n",
    "background = 0 \n",
    "for i in range(60):\n",
    "    return_val, background = cap.read()\n",
    "    if return_val == False :\n",
    "        continue \n",
    "background = np.flip(background, axis = 1) # flipping of the frame \n",
    "  \n",
    "# we are reading from video \n",
    "while (cap.isOpened()):\n",
    "    return_val, img = cap.read()\n",
    "    if not return_val :\n",
    "        break \n",
    "    count = count + 1\n",
    "    img = np.flip(img, axis = 1)\n",
    "  \n",
    "    # convert the image - BGR to HSV\n",
    "    # as we focused on detection of red color \n",
    "  \n",
    "    # converting BGR to HSV for better \n",
    "    # detection or you can convert it to gray\n",
    "    hsv = cv2.cvtColor(img, cv2.COLOR_BGR2HSV) \n",
    "  \n",
    "    #-------------------------------------BLOCK----------------------------#\n",
    "    # ranges should be carefully chosen\n",
    "    # setting the lower and upper range for mask1\n",
    "    lower_red =np.array([97,100,100])      \n",
    "    upper_red = np.array([117,255,255])\n",
    "    mask1 = cv2.inRange(hsv, lower_red, upper_red)\n",
    "    # setting the lower and upper range for mask2 \n",
    "#     lower_red = np.array([155, 40, 40])\n",
    "#     upper_red = np.array([180, 255, 255])\n",
    "#     mask2 = cv2.inRange(hsv, lower_red, upper_red)\n",
    "    #----------------------------------------------------------------------#\n",
    "  \n",
    "    # the above block of code could be replaced with\n",
    "    # some other code depending upon the color of your cloth \n",
    "#     mask1 = mask1 + mask2\n",
    "  \n",
    "    # Refining the mask corresponding to the detected red color\n",
    "    mask1 = cv2.morphologyEx(mask1, cv2.MORPH_OPEN, np.ones((3, 3),\n",
    "                                         np.uint8), iterations = 2)\n",
    "    mask1 = cv2.dilate(mask1, np.ones((3, 3), np.uint8), iterations = 1)\n",
    "    mask2 = cv2.bitwise_not(mask1)\n",
    "  \n",
    "    # Generating the final output\n",
    "    res1 = cv2.bitwise_and(background, background, mask = mask1)\n",
    "    res2 = cv2.bitwise_and(img, img, mask = mask2)\n",
    "    final_output = cv2.addWeighted(res1, 1, res2, 1, 0)\n",
    "  \n",
    "    cv2.imshow(\"INVISIBLE MAN\", final_output)\n",
    "    k = cv2.waitKey(10)\n",
    "    if k == 27:\n",
    "        break\n",
    "cap.release()\n",
    "cv2.destroyAllWindows()\n",
    "\n"
   ]
  },
  {
   "cell_type": "markdown",
   "id": "1eab121c",
   "metadata": {},
   "source": [
    "### Changing Background "
   ]
  },
  {
   "cell_type": "code",
   "execution_count": 7,
   "id": "41188538",
   "metadata": {},
   "outputs": [],
   "source": [
    "import cv2\n",
    "import os\n",
    "import cvzone\n",
    "from cvzone.SelfiSegmentationModule import SelfiSegmentation\n",
    "cap = cv2.VideoCapture(0)\n",
    "cap.set(3, 640)\n",
    "cap.set(4, 480)\n",
    "segmentor = SelfiSegmentation()\n",
    "indexImg = 0\n",
    "images = []\n",
    "\n",
    "folder=r\"C:\\Users\\admin\\Downloads\\Images_bg\\Images_bg\"\n",
    "for filename in os.listdir(folder):\n",
    "    img = cv2.imread(os.path.join(folder,filename))\n",
    "    if img is not None:\n",
    "        imgs=cv2.resize(img,(640,480))\n",
    "        images.append(imgs)\n",
    "        \n",
    "while True:\n",
    "    success, img = cap.read()\n",
    "    imgOut = segmentor.removeBG(img, images[indexImg], threshold=0.95)\n",
    "    \n",
    "    cv2.imshow(\"Image\", imgOut)\n",
    "    key = cv2.waitKey(1)\n",
    "    if key == ord('a'):\n",
    "        if indexImg>0:\n",
    "            indexImg -=1\n",
    "    elif key == ord('d'):\n",
    "        if indexImg<len(images)-1:\n",
    "            indexImg +=1\n",
    "    elif key == ord('q'):\n",
    "        break\n",
    "cap.release()\n",
    "cv2.destroyAllWindows()"
   ]
  },
  {
   "cell_type": "code",
   "execution_count": null,
   "id": "cbc306c1",
   "metadata": {},
   "outputs": [],
   "source": []
  }
 ],
 "metadata": {
  "kernelspec": {
   "display_name": "Python 3 (ipykernel)",
   "language": "python",
   "name": "python3"
  },
  "language_info": {
   "codemirror_mode": {
    "name": "ipython",
    "version": 3
   },
   "file_extension": ".py",
   "mimetype": "text/x-python",
   "name": "python",
   "nbconvert_exporter": "python",
   "pygments_lexer": "ipython3",
   "version": "3.9.7"
  }
 },
 "nbformat": 4,
 "nbformat_minor": 5
}
